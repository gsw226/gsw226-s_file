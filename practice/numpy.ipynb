{
 "cells": [
  {
   "cell_type": "code",
   "execution_count": 4,
   "metadata": {},
   "outputs": [
    {
     "name": "stdout",
     "output_type": "stream",
     "text": [
      "[[0. 0.]\n",
      " [0. 0.]\n",
      " [0. 0.]]\n"
     ]
    }
   ],
   "source": [
    "import numpy as np\n",
    "print(np.zeros((3,2)))"
   ]
  },
  {
   "cell_type": "code",
   "execution_count": 6,
   "metadata": {},
   "outputs": [
    {
     "data": {
      "text/plain": [
       "array([[1, 2],\n",
       "       [3, 4],\n",
       "       [5, 6]])"
      ]
     },
     "execution_count": 6,
     "metadata": {},
     "output_type": "execute_result"
    }
   ],
   "source": [
    "array = [1,2,3,4,5,6]\n",
    "\n",
    "np.reshape(array,[3,2])"
   ]
  },
  {
   "cell_type": "code",
   "execution_count": 7,
   "metadata": {},
   "outputs": [
    {
     "name": "stdout",
     "output_type": "stream",
     "text": [
      "/n배열 출력하기\n",
      "[1.57 2.48 3.93 4.33]\n",
      "/nnp.ceil() 함수는 소수 자리를 올림한다\n",
      "[2. 3. 4. 5.]\n",
      "/nnp.floor(array)함수의 소수자리를 버림한다\n",
      "[1. 2. 3. 4.]\n",
      "/nnp.round() 함수의 소수자리를 반올림한다\n",
      "[2. 2. 4. 4.]\n",
      "/n소수점 1자리에서 반올림\n",
      "[1.6 2.5 3.9 4.3]\n",
      "/n루트 씌우기\n",
      "[1.25299641 1.57480157 1.98242276 2.0808652 ]\n",
      "[0 1 2 3 4 5 6 7 8 9]\n",
      "\n",
      "/nexp함수 적용\n",
      "[1.00000000e+00 2.71828183e+00 7.38905610e+00 2.00855369e+01\n",
      " 5.45981500e+01 1.48413159e+02 4.03428793e+02 1.09663316e+03\n",
      " 2.98095799e+03 8.10308393e+03]\n",
      ".maximum(x,y)\n",
      "[6 4]\n",
      "------------------------------\n",
      "/n배열 출력하기1\n",
      "[1.1 2.2 3.3 4.4]\n"
     ]
    },
    {
     "data": {
      "text/plain": [
       "<function print>"
      ]
     },
     "execution_count": 7,
     "metadata": {},
     "output_type": "execute_result"
    }
   ],
   "source": [
    "import numpy  as np\n",
    "\n",
    "array = np.array([1.57,2.48,3.93,4.33])\n",
    "print('/n배열 출력하기')\n",
    "print(array)\n",
    "\n",
    "print('/nnp.ceil() 함수는 소수 자리를 올림한다')\n",
    "result = np.ceil(array)\n",
    "print(result)\n",
    "\n",
    "print('/nnp.floor(array)함수의 소수자리를 버림한다')\n",
    "result = np.floor(array)\n",
    "print(result)\n",
    "\n",
    "print('/nnp.round() 함수의 소수자리를 반올림한다')\n",
    "result = np.round(array)\n",
    "print(result)\n",
    "\n",
    "print('/n소수점 1자리에서 반올림')\n",
    "result = np.round(array,1)\n",
    "print(result)\n",
    "\n",
    "print('/n루트 씌우기')\n",
    "result = np.sqrt(array)\n",
    "print(result)\n",
    "\n",
    "arr = np.arange(10)\n",
    "print(arr)\n",
    "print()\n",
    "\n",
    "print('/nexp함수 적용')\n",
    "result = np.exp(arr)\n",
    "print(result)\n",
    "\n",
    "x=[5,4]\n",
    "y=[6,3]\n",
    "\n",
    "print('.maximum(x,y)')\n",
    "result = np.maximum(x,y)\n",
    "print(result)\n",
    "\n",
    "print('-'*30)\n",
    "\n",
    "array1 = np.array([1.1,2.2,3.3,4.4])\n",
    "print('/n배열 출력하기1')\n",
    "print(array1)\n",
    "\n",
    "array2 = np.array([1.1,2.2,3.3,4.4])\n",
    "print('/n배열 출력하기2')\n",
    "print(array2)\n",
    "\n",
    "print('/n절대값 구하기')\n",
    "result = np.abs(array1)\n",
    "print(result)\n",
    "\n",
    "print('/n배열 요소들의 값 합치기')\n",
    "result = np.sum(array1)\n",
    "print(array1)\n",
    "\n",
    "print('/n배열요소들의 값 비교하기')\n",
    "result = np.equal(array1,array2)\n",
    "print(result)\n",
    "\n",
    "print()\n"
   ]
  }
 ],
 "metadata": {
  "kernelspec": {
   "display_name": "edu311",
   "language": "python",
   "name": "python3"
  },
  "language_info": {
   "codemirror_mode": {
    "name": "ipython",
    "version": 3
   },
   "file_extension": ".py",
   "mimetype": "text/x-python",
   "name": "python",
   "nbconvert_exporter": "python",
   "pygments_lexer": "ipython3",
   "version": "3.9.18"
  }
 },
 "nbformat": 4,
 "nbformat_minor": 2
}
