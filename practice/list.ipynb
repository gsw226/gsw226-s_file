{
 "cells": [
  {
   "cell_type": "code",
   "execution_count": 13,
   "metadata": {},
   "outputs": [
    {
     "name": "stdout",
     "output_type": "stream",
     "text": [
      "<6학년 2반 학생 리스트>\n",
      "1 번 송지효\n",
      "2 번 이광수\n",
      "3 번 전소민\n",
      "4 번 지석진\n",
      "5 번 하하\n",
      "현재학생: 6 명\n",
      "<6학년 2반 학생 리스트>\n",
      "1 번 송지효\n",
      "2 번 유재석\n",
      "3 번 이광수\n",
      "4 번 전소민\n",
      "5 번 지석진\n",
      "6 번 하하\n",
      "현재학생: 5 명\n",
      "<6학년 2반 학생 리스트>\n",
      "1 번 송지효\n",
      "2 번 유재석\n",
      "3 번 이광수\n",
      "4 번 전소민\n",
      "5 번 하하\n"
     ]
    }
   ],
   "source": [
    "def InsertS(list,name):\n",
    "    list.append(name)\n",
    "    print(\"현재학생:\",len(list),\"명\")\n",
    "    PrintS(list)\n",
    "\n",
    "def DelS(list,name):\n",
    "    list.remove(name)\n",
    "    print(\"현재학생:\",len(list),\"명\")\n",
    "    PrintS(list)\n",
    "\n",
    "def PrintS(list):\n",
    "    print(\"<6학년 2반 학생 리스트>\")\n",
    "    for i in range(len(list)):\n",
    "        print(i+1,\"번\",sorted(list)[i])\n",
    "\n",
    "lstS = []\n",
    "while 1:\n",
    "    a = str(input(\"학생 이름을 입력하시오(or 종료): \"))\n",
    "    if \"종료\" in a:\n",
    "        break\n",
    "    lstS.append(a)\n",
    "    a = \" \"\n",
    "\n",
    "PrintS(lstS)\n",
    "\n",
    "name = str(input(\"추가할 학생 이름을 입력하시오: \"))\n",
    "InsertS(lstS,name)\n",
    "\n",
    "name = str(input(\"삭제할 학생 이름을 입력하시오: \"))\n",
    "DelS(lstS,name)\n"
   ]
  },
  {
   "cell_type": "code",
   "execution_count": 14,
   "metadata": {},
   "outputs": [
    {
     "name": "stdout",
     "output_type": "stream",
     "text": [
      "저는 파이썬임니다\n"
     ]
    }
   ],
   "source": [
    "class Showname:\n",
    "\n",
    "    def name(self):\n",
    "        print(\"저는 파이썬임니다\")\n",
    "\n",
    "a = Showname()\n",
    "a.name()"
   ]
  },
  {
   "cell_type": "code",
   "execution_count": 17,
   "metadata": {},
   "outputs": [
    {
     "name": "stdout",
     "output_type": "stream",
     "text": [
      "8\n",
      "15\n"
     ]
    }
   ],
   "source": [
    "class Four:\n",
    "    def setdata(self,first,second):\n",
    "        self.first = first\n",
    "        self.second = second\n",
    "    \n",
    "    def add(self):\n",
    "        result = self.first + self.second\n",
    "        return result\n",
    "    def mul(self):\n",
    "        result = self.first * self.second\n",
    "        return result\n",
    "    \n",
    "a = Four()\n",
    "a.setdata(3,5)\n",
    "print(a.add())\n",
    "print(a.mul())"
   ]
  },
  {
   "cell_type": "code",
   "execution_count": 18,
   "metadata": {},
   "outputs": [
    {
     "name": "stdout",
     "output_type": "stream",
     "text": [
      "저는 파이썬임니다\n"
     ]
    }
   ],
   "source": [
    "class Showname:\n",
    "\n",
    "    def name(self):\n",
    "        print(\"저는 파이썬임니다\")\n",
    "\n",
    "a = Showname()\n",
    "a.name()"
   ]
  },
  {
   "cell_type": "code",
   "execution_count": 19,
   "metadata": {},
   "outputs": [
    {
     "name": "stdout",
     "output_type": "stream",
     "text": [
      "저는 c언어 임니다\n"
     ]
    }
   ],
   "source": [
    "class Showname:\n",
    "\n",
    "    def name(self,name):\n",
    "        print(\"저는\",name,\"임니다\")\n",
    "\n",
    "a = Showname()\n",
    "a.name(\"c언어\")"
   ]
  },
  {
   "cell_type": "code",
   "execution_count": 20,
   "metadata": {},
   "outputs": [
    {
     "name": "stdout",
     "output_type": "stream",
     "text": [
      "제네시스\n",
      "<class 'str'>\n"
     ]
    }
   ],
   "source": [
    "class Car:\n",
    "    def get_name(self,x):\n",
    "        self.name = x\n",
    "        return self.name\n",
    "    \n",
    "a = Car()\n",
    "b = a.get_name('제네시스')\n",
    "\n",
    "print(b)\n",
    "print(type(b))"
   ]
  },
  {
   "cell_type": "code",
   "execution_count": 27,
   "metadata": {},
   "outputs": [
    {
     "name": "stdout",
     "output_type": "stream",
     "text": [
      "50000\n"
     ]
    }
   ],
   "source": [
    "class Payment():\n",
    "    def cal(self,price,count):\n",
    "        self.price = price\n",
    "        self.count = count\n",
    "        self.pay = self.price * self.count\n",
    "    def display(self):\n",
    "        print(self.pay)\n",
    "        \n",
    "obj1 = Payment()\n",
    "obj1.cal(10000,5)\n",
    "obj1.display()"
   ]
  },
  {
   "cell_type": "code",
   "execution_count": 28,
   "metadata": {},
   "outputs": [
    {
     "name": "stdout",
     "output_type": "stream",
     "text": [
      "저는 파이썬입니다\n"
     ]
    }
   ],
   "source": [
    "class Showname:\n",
    "    def __init__(self):\n",
    "        print('저는 파이썬입니다')\n",
    "\n",
    "a=Showname()"
   ]
  },
  {
   "cell_type": "code",
   "execution_count": 30,
   "metadata": {},
   "outputs": [
    {
     "name": "stdout",
     "output_type": "stream",
     "text": [
      "저는 c언어 입니다\n"
     ]
    }
   ],
   "source": [
    "class Showname:\n",
    "    def __init__(self,name):\n",
    "        print('저는',name,'입니다')\n",
    "    def hello(self):\n",
    "        print(\"만나서 반갑습니다\")\n",
    "\n",
    "a=Showname(\"c언어\")"
   ]
  },
  {
   "cell_type": "code",
   "execution_count": 46,
   "metadata": {},
   "outputs": [
    {
     "name": "stdout",
     "output_type": "stream",
     "text": [
      "3\n",
      "6\n",
      "24\n"
     ]
    }
   ],
   "source": [
    "class Four:\n",
    "    result = 0\n",
    "    def setdata(self,first):\n",
    "        self.first = first\n",
    "    \n",
    "    def add(self,num):\n",
    "        self.result = self.result + num\n",
    "        return self.result\n",
    "    def mul(self,num):\n",
    "        self.result = self.result *num\n",
    "        return self.result\n",
    "    \n",
    "a = Four()\n",
    "print(a.add(3))\n",
    "\n",
    "print(a.mul(2))\n",
    "\n",
    "print(a.mul(4))"
   ]
  },
  {
   "cell_type": "code",
   "execution_count": 51,
   "metadata": {},
   "outputs": [
    {
     "name": "stdout",
     "output_type": "stream",
     "text": [
      "박병호 님 어서 오세요\n",
      "박병호님과 대화 중임니다!\n"
     ]
    }
   ],
   "source": [
    "class meeting():\n",
    "    def __init__(self,name):\n",
    "        self.name = name\n",
    "        print(name,\"님 어서 오세요\")\n",
    "    def talk(self):\n",
    "        print(f'{self.name}님과 대화 중임니다!')\n",
    "              \n",
    "x = meeting('박병호')\n",
    "x.talk()"
   ]
  },
  {
   "cell_type": "markdown",
   "metadata": {},
   "source": [
    "4"
   ]
  },
  {
   "cell_type": "markdown",
   "metadata": {},
   "source": [
    "hello\n",
    "self\n",
    "4"
   ]
  },
  {
   "cell_type": "code",
   "execution_count": 54,
   "metadata": {},
   "outputs": [
    {
     "name": "stdout",
     "output_type": "stream",
     "text": [
      "정가 : 20000\n",
      "수량 : 5\n",
      "금액 : 10000\n"
     ]
    }
   ],
   "source": [
    "class payment():\n",
    "    dc = 0.5\n",
    "    def __init__(self,price,count):\n",
    "        self.price = price\n",
    "        self.count = count\n",
    "    def cal(self):\n",
    "        self.pay = self.price *self.count\n",
    "        self.pay = self.price * self.dc\n",
    "\n",
    "    def display(self):\n",
    "        print(f'정가 : {self.price}')\n",
    "        print(f'수량 : {self.count}')\n",
    "        print(f'금액 : {int(self.pay)}')\n",
    "\n",
    "a = payment(20000,5)\n",
    "a.cal()\n",
    "a.display()"
   ]
  },
  {
   "cell_type": "code",
   "execution_count": 55,
   "metadata": {},
   "outputs": [
    {
     "name": "stdout",
     "output_type": "stream",
     "text": [
      "3번쨰 객체입니다.\n"
     ]
    }
   ],
   "source": [
    "class Count():\n",
    "    counter = 0\n",
    "    def __init__(self):\n",
    "        Count.counter += 1\n",
    "    def display(self):\n",
    "        print(f'{Count.counter}번째 객체입니다.')\n",
    "\n",
    "a = Count()\n",
    "b = Count()\n",
    "c = Count()\n",
    "\n",
    "b.display()"
   ]
  }
 ],
 "metadata": {
  "kernelspec": {
   "display_name": "edu311",
   "language": "python",
   "name": "python3"
  },
  "language_info": {
   "codemirror_mode": {
    "name": "ipython",
    "version": 3
   },
   "file_extension": ".py",
   "mimetype": "text/x-python",
   "name": "python",
   "nbconvert_exporter": "python",
   "pygments_lexer": "ipython3",
   "version": "3.9.18"
  }
 },
 "nbformat": 4,
 "nbformat_minor": 2
}
