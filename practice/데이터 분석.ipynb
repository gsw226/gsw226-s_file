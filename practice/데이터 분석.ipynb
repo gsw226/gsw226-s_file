{
 "cells": [
  {
   "cell_type": "code",
   "execution_count": 7,
   "metadata": {},
   "outputs": [
    {
     "name": "stdout",
     "output_type": "stream",
     "text": [
      "https://finance.naver.com/item/sise_day.nhn?code=068270&page=1\n"
     ]
    },
    {
     "name": "stderr",
     "output_type": "stream",
     "text": [
      "C:\\Users\\MEGA\\AppData\\Local\\Temp\\ipykernel_12356\\2659673631.py:53: FutureWarning: Passing literal html to 'read_html' is deprecated and will be removed in a future version. To read from a literal string, wrap it in a 'StringIO' object.\n",
      "  table = pd.read_html(str(html_table))\n"
     ]
    },
    {
     "ename": "AttributeError",
     "evalue": "'DataFrame' object has no attribute 'append'",
     "output_type": "error",
     "traceback": [
      "\u001b[1;31m---------------------------------------------------------------------------\u001b[0m",
      "\u001b[1;31mAttributeError\u001b[0m                            Traceback (most recent call last)",
      "Cell \u001b[1;32mIn[7], line 59\u001b[0m\n\u001b[0;32m     56\u001b[0m     \u001b[38;5;28;01mif\u001b[39;00m table[\u001b[38;5;241m0\u001b[39m]\u001b[38;5;241m.\u001b[39mempty:\n\u001b[0;32m     57\u001b[0m         \u001b[38;5;28;01mbreak\u001b[39;00m\n\u001b[1;32m---> 59\u001b[0m     df \u001b[38;5;241m=\u001b[39m \u001b[43mdf\u001b[49m\u001b[38;5;241;43m.\u001b[39;49m\u001b[43mappend\u001b[49m(table[\u001b[38;5;241m0\u001b[39m]\u001b[38;5;241m.\u001b[39mdropna())\n\u001b[0;32m     61\u001b[0m \u001b[38;5;66;03m# Convert the '날짜' column to datetime\u001b[39;00m\n\u001b[0;32m     62\u001b[0m df[\u001b[38;5;124m'\u001b[39m\u001b[38;5;124m날짜\u001b[39m\u001b[38;5;124m'\u001b[39m] \u001b[38;5;241m=\u001b[39m pd\u001b[38;5;241m.\u001b[39mto_datetime(df[\u001b[38;5;124m'\u001b[39m\u001b[38;5;124m날짜\u001b[39m\u001b[38;5;124m'\u001b[39m])\n",
      "File \u001b[1;32m~\\AppData\\Local\\Packages\\PythonSoftwareFoundation.Python.3.10_qbz5n2kfra8p0\\LocalCache\\local-packages\\Python310\\site-packages\\pandas\\core\\generic.py:6293\u001b[0m, in \u001b[0;36mNDFrame.__getattr__\u001b[1;34m(self, name)\u001b[0m\n\u001b[0;32m   6286\u001b[0m \u001b[38;5;28;01mif\u001b[39;00m (\n\u001b[0;32m   6287\u001b[0m     name \u001b[38;5;129;01mnot\u001b[39;00m \u001b[38;5;129;01min\u001b[39;00m \u001b[38;5;28mself\u001b[39m\u001b[38;5;241m.\u001b[39m_internal_names_set\n\u001b[0;32m   6288\u001b[0m     \u001b[38;5;129;01mand\u001b[39;00m name \u001b[38;5;129;01mnot\u001b[39;00m \u001b[38;5;129;01min\u001b[39;00m \u001b[38;5;28mself\u001b[39m\u001b[38;5;241m.\u001b[39m_metadata\n\u001b[0;32m   6289\u001b[0m     \u001b[38;5;129;01mand\u001b[39;00m name \u001b[38;5;129;01mnot\u001b[39;00m \u001b[38;5;129;01min\u001b[39;00m \u001b[38;5;28mself\u001b[39m\u001b[38;5;241m.\u001b[39m_accessors\n\u001b[0;32m   6290\u001b[0m     \u001b[38;5;129;01mand\u001b[39;00m \u001b[38;5;28mself\u001b[39m\u001b[38;5;241m.\u001b[39m_info_axis\u001b[38;5;241m.\u001b[39m_can_hold_identifiers_and_holds_name(name)\n\u001b[0;32m   6291\u001b[0m ):\n\u001b[0;32m   6292\u001b[0m     \u001b[38;5;28;01mreturn\u001b[39;00m \u001b[38;5;28mself\u001b[39m[name]\n\u001b[1;32m-> 6293\u001b[0m \u001b[38;5;28;01mreturn\u001b[39;00m \u001b[38;5;28;43mobject\u001b[39;49m\u001b[38;5;241;43m.\u001b[39;49m\u001b[38;5;21;43m__getattribute__\u001b[39;49m\u001b[43m(\u001b[49m\u001b[38;5;28;43mself\u001b[39;49m\u001b[43m,\u001b[49m\u001b[43m \u001b[49m\u001b[43mname\u001b[49m\u001b[43m)\u001b[49m\n",
      "\u001b[1;31mAttributeError\u001b[0m: 'DataFrame' object has no attribute 'append'"
     ]
    }
   ],
   "source": [
    "import pandas as pd\n",
    "import matplotlib.pyplot as plt\n",
    "import requests\n",
    "from datetime import datetime\n",
    "from matplotlib import dates as mdates\n",
    "from bs4 import BeautifulSoup as bs\n",
    "\n",
    "url = 'https://finance.naver.com/item/sise_day.nhn?code=068270&page=1'\n",
    "\n",
    "headers = {'user-agent': 'Mozilla/5.0 (Macintosh; Intel Mac OS X 10_15_7) AppleWebKit/537.36 (KHTML, like Gecko) Chrome/88.0.4324.96 Safari/537.36'}\n",
    "response = requests.get(url, headers=headers)\n",
    "\n",
    "# print(response.text)\n",
    "\n",
    "html = bs(response.text, 'html.parser')\n",
    "html_table = html.select(\"table\")\n",
    "table = pd.read_html(str(html_table))\n",
    "\n",
    "\n",
    "\n",
    "print(table[0].dropna())\n",
    "\n",
    "df = pd.DataFrame()\n",
    "sise_url = 'https://finance.naver.com/item/sise_day.nhn?code=068270'  \n",
    "for page in range(1, 100):\n",
    "    page_url = '{}&page={}'.format(sise_url, page)\n",
    "    print(page_url)\n",
    "    response = requests.get(page_url, headers=headers)\n",
    "    html = bs(response.text, 'html.parser')\n",
    "    html_table = html.select(\"table\")\n",
    "    table = pd.read_html(str(html_table))\n",
    "\n",
    "    df = df.append(table[0].dropna())\n",
    "\n",
    "\n",
    "\n",
    "# df = pd.DataFrame()\n",
    "# sise_url = 'https://finance.naver.com/item/sise_day.nhn?code=068270'  \n",
    "\n",
    "# for page in range(1, 100):\n",
    "#     page_url = '{}&page={}'.format(sise_url, page)\n",
    "#     print(page_url)\n",
    "\n",
    "#     response = requests.get(page_url, headers=headers)\n",
    "#     html = bs(response.text, 'html.parser')\n",
    "#     html_table = html.select(\"table\")\n",
    "#     table = pd.read_html(str(html_table))\n",
    "\n",
    "#     if table[0].empty:\n",
    "#         break\n",
    "\n",
    "#     df = df.append(table[0].dropna())\n",
    "\n",
    "# df['날짜'] = pd.to_datetime(df['날짜'])\n",
    "\n",
    "# print(df)"
   ]
  },
  {
   "cell_type": "markdown",
   "metadata": {},
   "source": [
    "크롤링과 beutifulsoup를 활용하여 데이터를 수집하고 수집한 데이터를 사용가능 한 데이터와 필요없는 데이터로 간출였다. 또한 애가 원하는 테이블의 데이터를 남기고 불필요한 테마명,테마개요,테마 히스토리 등을 날렸다."
   ]
  }
 ],
 "metadata": {
  "kernelspec": {
   "display_name": "Python 3",
   "language": "python",
   "name": "python3"
  },
  "language_info": {
   "codemirror_mode": {
    "name": "ipython",
    "version": 3
   },
   "file_extension": ".py",
   "mimetype": "text/x-python",
   "name": "python",
   "nbconvert_exporter": "python",
   "pygments_lexer": "ipython3",
   "version": "3.10.11"
  }
 },
 "nbformat": 4,
 "nbformat_minor": 2
}
